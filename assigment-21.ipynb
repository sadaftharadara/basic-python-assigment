{
 "cells": [
  {
   "cell_type": "raw",
   "id": "d152b851",
   "metadata": {},
   "source": [
    "Number 1 -\n",
    "\n",
    "    Question -\n",
    "\n",
    "    Add the current date to the text file today.txt as a string.\n",
    "\n",
    "    Answer -\n"
   ]
  },
  {
   "cell_type": "code",
   "execution_count": 1,
   "id": "d0def446",
   "metadata": {},
   "outputs": [],
   "source": [
    "from datetime import date\n",
    "now = date.today()\n",
    "now_str = now.isoformat()\n",
    "with open('today.txt', 'wt') as output:\n",
    "    print(now_str, file=output)"
   ]
  },
  {
   "cell_type": "raw",
   "id": "00b8d069",
   "metadata": {},
   "source": [
    "Number 2 -\n",
    "\n",
    "    Question -\n",
    "\n",
    "    Read the text file today.txt into the string today_string\n",
    "\n",
    "    Answer -\n"
   ]
  },
  {
   "cell_type": "code",
   "execution_count": 2,
   "id": "7b84b0b5",
   "metadata": {},
   "outputs": [
    {
     "data": {
      "text/plain": [
       "'2023-11-24\\n'"
      ]
     },
     "execution_count": 2,
     "metadata": {},
     "output_type": "execute_result"
    }
   ],
   "source": [
    "with open('today.txt', 'rt') as input:\n",
    "    today_string = input.read()\n",
    "    \n",
    "today_string"
   ]
  },
  {
   "cell_type": "raw",
   "id": "1ab3510f",
   "metadata": {},
   "source": [
    "Number 3 -\n",
    "\n",
    "    Question -\n",
    "\n",
    "    Parse the date from today_string.\n",
    "\n",
    "    Answer -\n"
   ]
  },
  {
   "cell_type": "code",
   "execution_count": 3,
   "id": "5120e467",
   "metadata": {},
   "outputs": [
    {
     "data": {
      "text/plain": [
       "datetime.datetime(2023, 11, 24, 0, 0)"
      ]
     },
     "execution_count": 3,
     "metadata": {},
     "output_type": "execute_result"
    }
   ],
   "source": [
    "from datetime import datetime\n",
    "fmt = '%Y-%m-%d\\n'\n",
    "datetime.strptime(today_string, fmt)"
   ]
  },
  {
   "cell_type": "raw",
   "id": "b7b5392c",
   "metadata": {},
   "source": [
    "Number 4-\n",
    "\n",
    "    Question -\n",
    "\n",
    "    List the files in your current directory\n",
    "\n",
    "    Answer -\n"
   ]
  },
  {
   "cell_type": "code",
   "execution_count": 4,
   "id": "b40af6e1",
   "metadata": {},
   "outputs": [
    {
     "data": {
      "text/plain": [
       "['.bash_history',\n",
       " '.conda',\n",
       " '.condarc',\n",
       " '.continuum',\n",
       " '.docker',\n",
       " '.gitconfig',\n",
       " '.ipynb_checkpoints',\n",
       " '.ipython',\n",
       " '.jupyter',\n",
       " '.lesshst',\n",
       " '.matplotlib',\n",
       " '.vscode',\n",
       " '3D Objects',\n",
       " 'anaconda3',\n",
       " 'AppData',\n",
       " 'Application Data',\n",
       " 'assigment-22.ipynb',\n",
       " 'assigment-23.ipynb',\n",
       " 'assigment-24.ipynb',\n",
       " 'assigment-25.ipynb',\n",
       " 'assigment-4.ipynb',\n",
       " 'assigment-7.ipynb',\n",
       " 'Basics of Python.ipynb',\n",
       " 'Contacts',\n",
       " 'Cookies',\n",
       " 'Documents',\n",
       " 'Downloads',\n",
       " 'Favorites',\n",
       " 'IntelGraphicsProfiles',\n",
       " 'Links',\n",
       " 'Local Settings',\n",
       " 'Machine-learning-project',\n",
       " 'Microsoft',\n",
       " 'Music',\n",
       " 'My Documents',\n",
       " 'NetHood',\n",
       " 'NLP PROJECT.ipynb',\n",
       " 'NTUSER.DAT',\n",
       " 'ntuser.dat.LOG1',\n",
       " 'ntuser.dat.LOG2',\n",
       " 'NTUSER.DAT{803f7d8c-0d42-11ee-a3a3-95461ddeec1a}.TM.blf',\n",
       " 'NTUSER.DAT{803f7d8c-0d42-11ee-a3a3-95461ddeec1a}.TMContainer00000000000000000001.regtrans-ms',\n",
       " 'NTUSER.DAT{803f7d8c-0d42-11ee-a3a3-95461ddeec1a}.TMContainer00000000000000000002.regtrans-ms',\n",
       " 'ntuser.ini',\n",
       " 'OneDrive',\n",
       " 'PrintHood',\n",
       " 'python basic-assigment-3.ipynb',\n",
       " 'Python Operators.ipynb',\n",
       " 'python-assigment-6.ipynb',\n",
       " 'python-basic-assigment5.ipynb',\n",
       " 'Recent',\n",
       " 'Saved Games',\n",
       " 'Searches',\n",
       " 'SendTo',\n",
       " 'SMSSpamCollection',\n",
       " 'Start Menu',\n",
       " 'Templates',\n",
       " 'today.txt',\n",
       " 'Untitled.ipynb',\n",
       " 'Untitled1.ipynb',\n",
       " 'Untitled10.ipynb',\n",
       " 'Untitled11.ipynb',\n",
       " 'Untitled12.ipynb',\n",
       " 'Untitled13.ipynb',\n",
       " 'Untitled14.ipynb',\n",
       " 'Untitled15.ipynb',\n",
       " 'Untitled16.ipynb',\n",
       " 'Untitled17.ipynb',\n",
       " 'Untitled18.ipynb',\n",
       " 'Untitled2.ipynb',\n",
       " 'Untitled3.ipynb',\n",
       " 'Untitled4.ipynb',\n",
       " 'Untitled5.ipynb',\n",
       " 'Untitled6.ipynb',\n",
       " 'Untitled7.ipynb',\n",
       " 'Untitled8.ipynb',\n",
       " 'Untitled9.ipynb',\n",
       " 'Videos']"
      ]
     },
     "execution_count": 4,
     "metadata": {},
     "output_type": "execute_result"
    }
   ],
   "source": [
    "import os\n",
    "os.listdir('.')"
   ]
  },
  {
   "cell_type": "raw",
   "id": "a1a2f24d",
   "metadata": {},
   "source": [
    "Number 5 -\n",
    "\n",
    "    Question -\n",
    "\n",
    "    Create a list of all of the files in your parent directory (minimum five files should be available).\n",
    "\n",
    "    Answer -\n"
   ]
  },
  {
   "cell_type": "code",
   "execution_count": 5,
   "id": "dd9ceac0",
   "metadata": {},
   "outputs": [
    {
     "data": {
      "text/plain": [
       "['All Users',\n",
       " 'Default',\n",
       " 'Default User',\n",
       " 'desktop.ini',\n",
       " 'ML PROJECT',\n",
       " 'Public',\n",
       " 'sadaf']"
      ]
     },
     "execution_count": 5,
     "metadata": {},
     "output_type": "execute_result"
    }
   ],
   "source": [
    "os.listdir('..')"
   ]
  },
  {
   "cell_type": "raw",
   "id": "6891eeac",
   "metadata": {},
   "source": [
    "Number 6 -\n",
    "\n",
    "    Question -\n",
    "\n",
    "    Use multiprocessing to create three separate processes. Make each one wait a random number of seconds between one and five, print the current time, and then exit.\n",
    "\n",
    "    Answer -\n"
   ]
  },
  {
   "cell_type": "code",
   "execution_count": 6,
   "id": "3590f549",
   "metadata": {},
   "outputs": [
    {
     "name": "stderr",
     "output_type": "stream",
     "text": [
      "python: can't open file 'C:\\\\Users\\\\sadaf\\\\multi_process.py': [Errno 2] No such file or directory\n"
     ]
    }
   ],
   "source": [
    "!python multi_process.py"
   ]
  },
  {
   "cell_type": "raw",
   "id": "4e4c88ac",
   "metadata": {},
   "source": [
    "Number 7 -\n",
    "\n",
    "    Question -\n",
    "\n",
    "    Create a date object of your day of birth.\n",
    "\n",
    "    Answer -\n"
   ]
  },
  {
   "cell_type": "code",
   "execution_count": 7,
   "id": "2f4f2d07",
   "metadata": {},
   "outputs": [
    {
     "data": {
      "text/plain": [
       "datetime.date(1996, 8, 10)"
      ]
     },
     "execution_count": 7,
     "metadata": {},
     "output_type": "execute_result"
    }
   ],
   "source": [
    "my_day = date(1996, 8, 10)\n",
    "my_day"
   ]
  },
  {
   "cell_type": "raw",
   "id": "01406161",
   "metadata": {},
   "source": [
    "Number 8 -\n",
    "\n",
    "    Question -\n",
    "\n",
    "    What day of the week was your day of birth?\n",
    "\n",
    "    Answer -\n",
    "\n",
    "    With weekday(), Monday is 0 and Sunday is 6. With isoweekday(), Monday is 1 and\n",
    "\n",
    "Sunday is 7. Therefore, this date is a Saturday.\n"
   ]
  },
  {
   "cell_type": "code",
   "execution_count": 8,
   "id": "ccfb3d0d",
   "metadata": {},
   "outputs": [
    {
     "data": {
      "text/plain": [
       "5"
      ]
     },
     "execution_count": 8,
     "metadata": {},
     "output_type": "execute_result"
    }
   ],
   "source": [
    "my_day.weekday()"
   ]
  },
  {
   "cell_type": "code",
   "execution_count": 9,
   "id": "b22d45c5",
   "metadata": {},
   "outputs": [
    {
     "data": {
      "text/plain": [
       "6"
      ]
     },
     "execution_count": 9,
     "metadata": {},
     "output_type": "execute_result"
    }
   ],
   "source": [
    "my_day.isoweekday()"
   ]
  },
  {
   "cell_type": "raw",
   "id": "d0478edb",
   "metadata": {},
   "source": [
    "Number 9 -\n",
    "\n",
    "    Question -\n",
    "\n",
    "    When will you be (or when were you) 10,000 days old?\n",
    "\n",
    "    Answer -\n"
   ]
  },
  {
   "cell_type": "code",
   "execution_count": 11,
   "id": "a4da97f5",
   "metadata": {},
   "outputs": [
    {
     "data": {
      "text/plain": [
       "datetime.date(2023, 12, 27)"
      ]
     },
     "execution_count": 11,
     "metadata": {},
     "output_type": "execute_result"
    }
   ],
   "source": [
    "from datetime import timedelta\n",
    "ten_thousand = my_day + timedelta(days=10000)\n",
    "ten_thousand"
   ]
  },
  {
   "cell_type": "code",
   "execution_count": null,
   "id": "eceac7ec",
   "metadata": {},
   "outputs": [],
   "source": []
  }
 ],
 "metadata": {
  "kernelspec": {
   "display_name": "Python 3 (ipykernel)",
   "language": "python",
   "name": "python3"
  },
  "language_info": {
   "codemirror_mode": {
    "name": "ipython",
    "version": 3
   },
   "file_extension": ".py",
   "mimetype": "text/x-python",
   "name": "python",
   "nbconvert_exporter": "python",
   "pygments_lexer": "ipython3",
   "version": "3.10.9"
  }
 },
 "nbformat": 4,
 "nbformat_minor": 5
}
