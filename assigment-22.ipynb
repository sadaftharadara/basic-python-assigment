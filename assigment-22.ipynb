{
 "cells": [
  {
   "cell_type": "raw",
   "id": "c5b1ff58",
   "metadata": {},
   "source": [
    "Number 1 -\n",
    "\n",
    "    Question -\n",
    "\n",
    "    What is the result of the code, and explain?\n",
    "\n",
    "    X = 'iNeuron'\n",
    "\n",
    "    def func():\n",
    "\n",
    "    print(X)\n",
    "\n",
    "    func()\n",
    "\n",
    "    Answer -\n",
    "\n",
    "    The line, func() Call the function we defined which prints the value of X.\n",
    "\n"
   ]
  },
  {
   "cell_type": "code",
   "execution_count": 1,
   "id": "cf283fb0",
   "metadata": {},
   "outputs": [],
   "source": [
    "X = 'iNeuron'\n",
    "def func():\n",
    "    print (X)"
   ]
  },
  {
   "cell_type": "code",
   "execution_count": 2,
   "id": "5f8d5e78",
   "metadata": {},
   "outputs": [
    {
     "name": "stdout",
     "output_type": "stream",
     "text": [
      "iNeuron\n"
     ]
    }
   ],
   "source": [
    "func()"
   ]
  },
  {
   "cell_type": "raw",
   "id": "ef4b6a68",
   "metadata": {},
   "source": [
    "Number 2 -\n",
    "\n",
    "    Question -\n",
    "\n",
    "    What is the result of the code, and explain?\n",
    "\n",
    "    X = 'iNeuron'\n",
    "\n",
    "    def func():\n",
    "\n",
    "    X = 'NI!'\n",
    "\n",
    "    func()\n",
    "\n",
    "    print(X)\n",
    "\n",
    "    Answer -\n",
    "\n",
    "    The line, func() Call the function we defined, with \"NI\" as the value of X inside the funtion, but doesn't prints it, as there is no print statement inside the function.\n",
    "\n",
    "    The line, print(X), prints the value of X, which is \"iNeuron\", which is outside func().\n",
    "\n"
   ]
  },
  {
   "cell_type": "code",
   "execution_count": 3,
   "id": "4a24b474",
   "metadata": {},
   "outputs": [],
   "source": [
    "X = 'iNeuron'\n",
    "def func():\n",
    "    X = 'NI!'\n",
    "func()"
   ]
  },
  {
   "cell_type": "code",
   "execution_count": 4,
   "id": "369c137b",
   "metadata": {},
   "outputs": [
    {
     "name": "stdout",
     "output_type": "stream",
     "text": [
      "iNeuron\n"
     ]
    }
   ],
   "source": [
    "print(X)"
   ]
  },
  {
   "cell_type": "raw",
   "id": "7d8f8777",
   "metadata": {},
   "source": [
    "Number 3 -\n",
    "\n",
    "    Question -\n",
    "\n",
    "    What does this code print, and why?\n",
    "\n",
    "    X = 'iNeuron'\n",
    "\n",
    "    def func():\n",
    "\n",
    "    X = 'NI'\n",
    "\n",
    "    print(X)\n",
    "\n",
    "    func()\n",
    "\n",
    "    print(X)\n",
    "\n",
    "    Answer -\n",
    "\n",
    "    The line, func() Call the function we defined which prints the value of X, which is \"NI\" inside the funtion.\n",
    "\n",
    "    The line, print(X), prints the value of X, which is \"iNeuron\", which is outside func().\n",
    "\n"
   ]
  },
  {
   "cell_type": "code",
   "execution_count": 5,
   "id": "69c15945",
   "metadata": {},
   "outputs": [
    {
     "name": "stdout",
     "output_type": "stream",
     "text": [
      "NI!\n"
     ]
    }
   ],
   "source": [
    "X = 'iNeuron'\n",
    "def func():\n",
    "    X = 'NI!'\n",
    "    print (X)\n",
    "func()"
   ]
  },
  {
   "cell_type": "code",
   "execution_count": 6,
   "id": "8f5f110c",
   "metadata": {},
   "outputs": [
    {
     "name": "stdout",
     "output_type": "stream",
     "text": [
      "iNeuron\n"
     ]
    }
   ],
   "source": [
    "print(X)"
   ]
  },
  {
   "cell_type": "raw",
   "id": "601c0664",
   "metadata": {},
   "source": [
    "Number 4 -\n",
    "\n",
    "    Question -\n",
    "\n",
    "    What output does this code produce? Why?\n",
    "\n",
    "    X = 'iNeuron'\n",
    "\n",
    "    def func():\n",
    "\n",
    "    global X\n",
    "\n",
    "    X = 'NI'\n",
    "\n",
    "    func()\n",
    "\n",
    "    print(X)\n",
    "\n",
    "    Answer -\n",
    "\n",
    "    The line, func() Call the function we defined, with \"NI\" as the value of X inside the funtion, but doesn't prints it, as there is no print statement inside the function, and we have used global keyword, which means, global keyword allows us to modify the variable, that is \"X\", outside of the current function.\n",
    "\n",
    "    The line, print(X), prints the value of X, which is now \"NI\", as we used global keyword inside the function.\n",
    "\n"
   ]
  },
  {
   "cell_type": "code",
   "execution_count": 8,
   "id": "d6ae0022",
   "metadata": {},
   "outputs": [],
   "source": [
    "X = 'iNeuron'\n",
    "def func():\n",
    "    global X\n",
    "    X = \"NI\"\n",
    "func()"
   ]
  },
  {
   "cell_type": "code",
   "execution_count": 9,
   "id": "2b29a289",
   "metadata": {},
   "outputs": [
    {
     "name": "stdout",
     "output_type": "stream",
     "text": [
      "NI\n"
     ]
    }
   ],
   "source": [
    "print(X)"
   ]
  },
  {
   "cell_type": "raw",
   "id": "f561fb17",
   "metadata": {},
   "source": [
    "Number 5 -\n",
    "\n",
    "    Question -\n",
    "\n",
    "    X = 'iNeuron'\n",
    "\n",
    "    def func():\n",
    "\n",
    "    X = 'NI'\n",
    "\n",
    "    def nested():\n",
    "\n",
    "    print(X)\n",
    "\n",
    "    nested()\n",
    "\n",
    "    func()\n",
    "\n",
    "    X\n",
    "\n",
    "    Answer -\n"
   ]
  },
  {
   "cell_type": "code",
   "execution_count": 10,
   "id": "d8e2f64b",
   "metadata": {},
   "outputs": [
    {
     "name": "stdout",
     "output_type": "stream",
     "text": [
      "iNeuron\n"
     ]
    }
   ],
   "source": [
    "X = 'iNeuron'\n",
    "def func():\n",
    "    X = \"NI\"\n",
    "def nested():\n",
    "    print(X)\n",
    "nested()"
   ]
  },
  {
   "cell_type": "code",
   "execution_count": null,
   "id": "61db7304",
   "metadata": {},
   "outputs": [],
   "source": []
  }
 ],
 "metadata": {
  "kernelspec": {
   "display_name": "Python 3 (ipykernel)",
   "language": "python",
   "name": "python3"
  },
  "language_info": {
   "codemirror_mode": {
    "name": "ipython",
    "version": 3
   },
   "file_extension": ".py",
   "mimetype": "text/x-python",
   "name": "python",
   "nbconvert_exporter": "python",
   "pygments_lexer": "ipython3",
   "version": "3.10.9"
  }
 },
 "nbformat": 4,
 "nbformat_minor": 5
}
