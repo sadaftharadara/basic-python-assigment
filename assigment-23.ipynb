{
 "cells": [
  {
   "cell_type": "raw",
   "id": "dc815fbf",
   "metadata": {},
   "source": [
    "Number 1 -\n",
    "\n",
    "    Question -\n",
    "\n",
    "    What is the result of the code, and why?\n",
    "\n",
    "    def func(a, b=6, c=8):print(a, b, c)\n",
    "\n",
    "    func(1, 2)\n",
    "\n",
    "    Answer -\n",
    "\n",
    "    The line func() takes two values, that is 1 and 2 respectively, but the func() is defined to take 3 values, as in func() we pass only two values, the third value comes from the default value, that is c = 8.\n",
    "\n"
   ]
  },
  {
   "cell_type": "code",
   "execution_count": 1,
   "id": "7223291a",
   "metadata": {},
   "outputs": [
    {
     "name": "stdout",
     "output_type": "stream",
     "text": [
      "1 2 8\n"
     ]
    }
   ],
   "source": [
    "def func(a, b=6, c=8): \n",
    "    print(a, b, c)\n",
    "func(1, 2)"
   ]
  },
  {
   "cell_type": "raw",
   "id": "764130e0",
   "metadata": {},
   "source": [
    "Number 2 -\n",
    "\n",
    "    Question -\n",
    "\n",
    "    What is the result of this code, and why?\n",
    "\n",
    "    def func(a, b, c=5):print(a, b, c)\n",
    "\n",
    "    func(1, c=3, b=2)\n",
    "\n",
    "    Answer -\n",
    "\n",
    "    The line func() takes three values, that is 1 , c= 3 snd b = 2 respectively,the func() is defined to take 3 values, as in func() we pass othree values, the default values gets overwritten, and we get the newly passed values.\n",
    "\n"
   ]
  },
  {
   "cell_type": "code",
   "execution_count": 2,
   "id": "33548630",
   "metadata": {},
   "outputs": [
    {
     "name": "stdout",
     "output_type": "stream",
     "text": [
      "1 2 3\n"
     ]
    }
   ],
   "source": [
    "def func(a, b, c=5):\n",
    "    print(a, b, c)\n",
    "func(1, c=3, b=2)"
   ]
  },
  {
   "cell_type": "raw",
   "id": "99fcfedc",
   "metadata": {},
   "source": [
    "Number 3 -\n",
    "\n",
    "    Question -\n",
    "\n",
    "    How about this code: what is its result, and why?\n",
    "\n",
    "    def func(a, *pargs):print(a, pargs)\n",
    "\n",
    "    func(1, 2, 3)\n",
    "\n",
    "    Answer -\n",
    "\n",
    "    The special syntax pargs in function definitions in python is used to pass a variable number of arguments to a function. It is used to pass a non-key worded, variable-length argument list. The syntax is to use the symbol to take in a variable number of arguments; by convention, it is often used with the word args.\n",
    "\n",
    "What pargs allows you to do is take in more arguments than the number of formal arguments that you previously defined. With pargs, any number of extra arguments can be tacked on to your current formal parameters (including zero extra arguments).\n"
   ]
  },
  {
   "cell_type": "code",
   "execution_count": 3,
   "id": "c5eaa40c",
   "metadata": {},
   "outputs": [
    {
     "name": "stdout",
     "output_type": "stream",
     "text": [
      "1 (2, 3)\n"
     ]
    }
   ],
   "source": [
    "def func(a, *pargs):\n",
    "    print(a, pargs)\n",
    "func(1, 2, 3)"
   ]
  },
  {
   "cell_type": "raw",
   "id": "67ec1521",
   "metadata": {},
   "source": [
    "Number 4 -\n",
    "\n",
    "    Question -\n",
    "\n",
    "    What does this code print, and why?\n",
    "\n",
    "    def func(a, **kargs):print(a, kargs)\n",
    "\n",
    "    func(a=1, c=3, b=2)\n",
    "\n",
    "    Answer -\n",
    "\n",
    "    The special syntax **kargs in function definitions in python is used to pass a keyworded, variable-length argument list. We use the name kwargs with the double star. The reason is because the double star allows us to pass through keyword arguments (and any number of them).\n"
   ]
  },
  {
   "cell_type": "code",
   "execution_count": 4,
   "id": "674d0472",
   "metadata": {},
   "outputs": [
    {
     "name": "stdout",
     "output_type": "stream",
     "text": [
      "1 {'c': 3, 'b': 2}\n"
     ]
    }
   ],
   "source": [
    "def func(a, **kargs):\n",
    "    print(a, kargs)\n",
    "func(a=1, c=3, b=2)"
   ]
  },
  {
   "cell_type": "raw",
   "id": "d0d2cf99",
   "metadata": {},
   "source": [
    "Number 5 -\n",
    "\n",
    "    Question -\n",
    "\n",
    "    What gets printed by this, and explain?\n",
    "\n",
    "    def func(a, b, c=8, d=5): print(a, b, c, d)\n",
    "\n",
    "    func(1, *(5, 6))\n",
    "\n",
    "    Answer -\n"
   ]
  },
  {
   "cell_type": "code",
   "execution_count": 5,
   "id": "b3ee00de",
   "metadata": {},
   "outputs": [
    {
     "name": "stdout",
     "output_type": "stream",
     "text": [
      "1 5 6 5\n"
     ]
    }
   ],
   "source": [
    "def func(a, b, c=8, d=5): \n",
    "    print(a, b, c, d)\n",
    "func(1, *(5, 6))"
   ]
  },
  {
   "cell_type": "raw",
   "id": "263c2563",
   "metadata": {},
   "source": [
    "Number 6 -\n",
    "\n",
    "    Question -\n",
    "\n",
    "    what is the result of this, and explain?\n",
    "\n",
    "    def func(a, b, c): a = 2; b[0] = 'x'; c['a'] = 'y'\n",
    "\n",
    "    l=1; m=[1]; n={'a':0}\n",
    "\n",
    "    func(l, m, n)\n",
    "\n",
    "    Answer -\n"
   ]
  },
  {
   "cell_type": "code",
   "execution_count": 6,
   "id": "d8115f3c",
   "metadata": {},
   "outputs": [],
   "source": [
    "def func(a, b, c): \n",
    "    a = 2; b[0] = 'x'; c['a'] = 'y'\n",
    "l=1; m=[1]; n={'a':0}\n",
    "func(l, m, n)"
   ]
  },
  {
   "cell_type": "code",
   "execution_count": null,
   "id": "0d64078e",
   "metadata": {},
   "outputs": [],
   "source": []
  }
 ],
 "metadata": {
  "kernelspec": {
   "display_name": "Python 3 (ipykernel)",
   "language": "python",
   "name": "python3"
  },
  "language_info": {
   "codemirror_mode": {
    "name": "ipython",
    "version": 3
   },
   "file_extension": ".py",
   "mimetype": "text/x-python",
   "name": "python",
   "nbconvert_exporter": "python",
   "pygments_lexer": "ipython3",
   "version": "3.10.9"
  }
 },
 "nbformat": 4,
 "nbformat_minor": 5
}
