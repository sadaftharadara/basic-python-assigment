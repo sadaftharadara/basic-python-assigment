{
 "cells": [
  {
   "cell_type": "raw",
   "id": "342a62b3",
   "metadata": {},
   "source": [
    "Number 1 -\n",
    "\n",
    "    Question -\n",
    "\n",
    "    What is the name of the feature responsible for generating Regex objects?\n",
    "\n",
    "    Answer -\n",
    "\n",
    "    The name of the feature responsible for generating Regex objects is re.compile() function which returns Regex objects.\n"
   ]
  },
  {
   "cell_type": "raw",
   "id": "ca0b1626",
   "metadata": {},
   "source": [
    "Number 2 -\n",
    "\n",
    "    Question -\n",
    "\n",
    "    Why do raw strings often appear in Regex objects?\n",
    "\n",
    "    Answer -\n",
    "\n",
    "    Raw strings are used so that backslashes do not have to be escaped.\n"
   ]
  },
  {
   "cell_type": "raw",
   "id": "b12be6d8",
   "metadata": {},
   "source": [
    "Number 3 -\n",
    "\n",
    "    Question -\n",
    "\n",
    "    What is the return value of the search() method?\n",
    "\n",
    "    Answer -\n",
    "\n",
    "    the return value of the search() method is that it returns Match objects.The search() function searches the string for a match, and returns a Match object if there is a match.\n",
    "\n"
   ]
  },
  {
   "cell_type": "code",
   "execution_count": 1,
   "id": "da60259c",
   "metadata": {},
   "outputs": [
    {
     "name": "stdout",
     "output_type": "stream",
     "text": [
      "The first i character is located in position: 2\n"
     ]
    },
    {
     "data": {
      "text/plain": [
       "re.Match"
      ]
     },
     "execution_count": 1,
     "metadata": {},
     "output_type": "execute_result"
    }
   ],
   "source": [
    "import re\n",
    "\n",
    "data = \"This is iNeuron Full Stack Data Science Class\"\n",
    "x = re.search(\"i\", data)\n",
    "\n",
    "print(\"The first i character is located in position:\", x.start()) \n",
    "type(x)"
   ]
  },
  {
   "cell_type": "raw",
   "id": "83183728",
   "metadata": {},
   "source": [
    "Number 4 -\n",
    "\n",
    "    Question -\n",
    "\n",
    "    From a Match item, how do you get the actual strings that match the pattern?\n",
    "\n",
    "    Answer -\n",
    "\n",
    "    The group() method returns strings of the matched text.\n"
   ]
  },
  {
   "cell_type": "raw",
   "id": "d02391a3",
   "metadata": {},
   "source": [
    "Number 5 -\n",
    "\n",
    "    Question -\n",
    "\n",
    "    In the regex which created from the r'(\\d\\d\\d)-(\\d\\d\\d-\\d\\d\\d\\d)', what does group zero cover? Group 2? Group 1?\n",
    "\n",
    "    Answer -\n",
    "\n",
    "    Group 0 is the entire match, group 1 covers the first set of parentheses, and group 2 covers the second set of parentheses.\n",
    "\n"
   ]
  },
  {
   "cell_type": "raw",
   "id": "86ad9b53",
   "metadata": {},
   "source": [
    "Number 6 -\n",
    "\n",
    "    Question -\n",
    "\n",
    "    In standard expression syntax, parentheses and intervals have distinct meanings. How can you tell a regex that you want it to fit real parentheses and periods?\n",
    "\n",
    "    Answer -\n",
    "\n",
    "    Periods and parentheses can be escaped with a backslash: \\\n"
   ]
  },
  {
   "cell_type": "raw",
   "id": "02a2bf01",
   "metadata": {},
   "source": [
    "Number 7 -\n",
    "\n",
    "    Question -\n",
    "\n",
    "    The findall() method returns a string list or a list of string tuples. What causes it to return one of the two options?\n",
    "\n",
    "    Answer -\n",
    "\n",
    "    If the regex has no groups, a list of strings is returned. If the regex has groups, a list of tuples of strings is returned.\n"
   ]
  },
  {
   "cell_type": "raw",
   "id": "2bd4324d",
   "metadata": {},
   "source": [
    "Number 8 -\n",
    "\n",
    "    Question -\n",
    "\n",
    "    In standard expressions, what does the | character mean?\n",
    "\n",
    "    Answer -\n",
    "\n",
    "    The | character signifies matching \"either, or\" between two groups.\n"
   ]
  },
  {
   "cell_type": "raw",
   "id": "6433ad0b",
   "metadata": {},
   "source": [
    "Number 9 -\n",
    "\n",
    "    Question -\n",
    "\n",
    "    What two things does the ? character signify in regular expressions?\n",
    "\n",
    "    Answer -\n",
    "\n",
    "    The ? character can either mean \"match zero or one of the preceding group\" or be used to signify nongreedy matching.\n"
   ]
  },
  {
   "cell_type": "raw",
   "id": "34f8645a",
   "metadata": {},
   "source": [
    "Number 10 -\n",
    "\n",
    "    Question -\n",
    "\n",
    "    In regular expressions, what is the difference between the + and * characters?\n",
    "\n",
    "    Answer -\n",
    "\n",
    "    The + matches one or more. The * matches zero or more.\n"
   ]
  },
  {
   "cell_type": "raw",
   "id": "54fa8efa",
   "metadata": {},
   "source": [
    "Number 11-\n",
    "\n",
    "    Question -\n",
    "\n",
    "    What is the difference between {4} and {4,5} in regular expression?\n",
    "\n",
    "    Answer -\n",
    "\n",
    "    The {4} matches exactly three instances of the preceding group. The {4,5} matches between four and five instances.\n"
   ]
  },
  {
   "cell_type": "raw",
   "id": "77d6ecae",
   "metadata": {},
   "source": [
    "Number 12 -\n",
    "\n",
    "    Question -\n",
    "\n",
    "    What do you mean by the \\d, \\w, and \\s shorthand character classes signify in regular expressions?\n",
    "\n",
    "    Answer -\n",
    "\n",
    "    The \\d, \\w, and \\s shorthand character classes match a single digit, word, or space character, respectively.\n"
   ]
  },
  {
   "cell_type": "raw",
   "id": "0a645eaa",
   "metadata": {},
   "source": [
    "Number 13 -\n",
    "\n",
    "    Question -\n",
    "\n",
    "    What do means by \\D, \\W, and \\S shorthand character classes signify in regular expressions?\n",
    "\n",
    "    Answer -\n",
    "\n",
    "    The \\D, \\W, and \\S shorthand character classes match a single character that is not a digit, word, or space character, respectively"
   ]
  },
  {
   "cell_type": "raw",
   "id": "efb20f0f",
   "metadata": {},
   "source": [
    "Number 14 -\n",
    "\n",
    "    Question -\n",
    "\n",
    "    What is the difference between .* and .*??\n",
    "\n",
    "    Answer -\n",
    "\n",
    "    The .* performs a greedy match, and the .*? performs a nongreedy match.\n"
   ]
  },
  {
   "cell_type": "raw",
   "id": "a51ccacf",
   "metadata": {},
   "source": [
    "Number 15 -\n",
    "\n",
    "    Question -\n",
    "\n",
    "    What is the syntax for matching both numbers and lowercase letters with a character class?\n",
    "\n",
    "    Answer -\n",
    "\n",
    "    Either [0-9a-z] or [a-z0-9]\n",
    "\n"
   ]
  },
  {
   "cell_type": "code",
   "execution_count": null,
   "id": "72822b5a",
   "metadata": {},
   "outputs": [],
   "source": []
  }
 ],
 "metadata": {
  "kernelspec": {
   "display_name": "Python 3 (ipykernel)",
   "language": "python",
   "name": "python3"
  },
  "language_info": {
   "codemirror_mode": {
    "name": "ipython",
    "version": 3
   },
   "file_extension": ".py",
   "mimetype": "text/x-python",
   "name": "python",
   "nbconvert_exporter": "python",
   "pygments_lexer": "ipython3",
   "version": "3.10.9"
  }
 },
 "nbformat": 4,
 "nbformat_minor": 5
}
